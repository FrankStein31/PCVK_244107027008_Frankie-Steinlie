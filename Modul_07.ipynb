{
  "nbformat": 4,
  "nbformat_minor": 0,
  "metadata": {
    "colab": {
      "provenance": [],
      "authorship_tag": "ABX9TyMXzUphgeclyim5ciq7dQLf",
      "include_colab_link": true
    },
    "kernelspec": {
      "name": "python3",
      "display_name": "Python 3"
    },
    "language_info": {
      "name": "python"
    }
  },
  "cells": [
    {
      "cell_type": "markdown",
      "metadata": {
        "id": "view-in-github",
        "colab_type": "text"
      },
      "source": [
        "<a href=\"https://colab.research.google.com/github/FrankStein31/PCVK_244107027008_Frankie-Steinlie/blob/main/Modul_07.ipynb\" target=\"_parent\"><img src=\"https://colab.research.google.com/assets/colab-badge.svg\" alt=\"Open In Colab\"/></a>"
      ]
    },
    {
      "cell_type": "markdown",
      "source": [
        "**NIM : 244107027008**\n",
        "\n",
        "**Nama : Frankie Steinlie**\n",
        "\n",
        "Mata Kuliah : Pengolahan Citra dan Visi Komputer"
      ],
      "metadata": {
        "id": "5NqWk0ZTgKv7"
      }
    },
    {
      "cell_type": "code",
      "source": [],
      "metadata": {
        "id": "2TaUtZMBgNXf"
      },
      "execution_count": null,
      "outputs": []
    }
  ]
}